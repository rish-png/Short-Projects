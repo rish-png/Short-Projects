{
  "nbformat": 4,
  "nbformat_minor": 0,
  "metadata": {
    "colab": {
      "name": "MLP_from_scratch.ipynb",
      "provenance": [],
      "collapsed_sections": []
    },
    "kernelspec": {
      "name": "python3",
      "display_name": "Python 3"
    },
    "accelerator": "GPU"
  },
  "cells": [
    {
      "cell_type": "code",
      "metadata": {
        "id": "RQaBXqdI4njf"
      },
      "source": [
        "import tensorflow as tf\n",
        "import numpy as np\n",
        "import tensorflow.keras as keras"
      ],
      "execution_count": 1,
      "outputs": []
    },
    {
      "cell_type": "code",
      "metadata": {
        "id": "-hBjskzW_yhR"
      },
      "source": [
        "class MyDense(keras.layers.Layer):\n",
        "    def __init__(self, units, activation=None, **kwargs):\n",
        "        super(MyDense, self).__init__(**kwargs)\n",
        "        self.units = units\n",
        "        self.activation = keras.activations.get(activation)\n",
        "    \n",
        "    def build(self, batch_input_shape):\n",
        "        self.kernel = self.add_weight(\"kernel\", shape=[batch_input_shape[-1], self.units],\n",
        "                                       initializer='he_normal')\n",
        "        self.bias = self.add_weight('bias', shape=[self.units], initializer='zeros')\n",
        "\n",
        "    def call(self, X):\n",
        "        return self.activation(X @ self.kernel + self.bias)\n",
        "\n",
        "    def compute_output_shape(self, batch_input_shape):\n",
        "        return tf.TensorShape([batch_input_shape.as_list()[:-1] + [self.units]])\n",
        "    \n",
        "    def get_config(self):\n",
        "        base_config = super().get_config()\n",
        "        return {**base_config, 'units': self.units,\n",
        "                'activation': keras.activations.serialize(self.activation)}\n"
      ],
      "execution_count": 2,
      "outputs": []
    },
    {
      "cell_type": "code",
      "metadata": {
        "id": "UJDXRZGRE1WN"
      },
      "source": [
        "class MLPClassifier(keras.Model):\n",
        "    def __init__(self, hidden_layer_sizes=[100,], activation=None):\n",
        "        super(MLPClassifier, self).__init__()\n",
        "        self.hidden_layer_sizes = hidden_layer_sizes\n",
        "        self.num_layers = len(hidden_layer_sizes)\n",
        "        self.activation = activation\n",
        "        self.layerz = [MyDense(unit, activation) for unit in hidden_layer_sizes[:-1]]\n",
        "        self.out = MyDense(hidden_layer_sizes[-1], activation='softmax')\n",
        "\n",
        "    def call(self, X):\n",
        "        for i in range(self.num_layers-1):\n",
        "            X = self.layerz[i](X)\n",
        "        X = self.out(X)\n",
        "        return X"
      ],
      "execution_count": 3,
      "outputs": []
    },
    {
      "cell_type": "code",
      "metadata": {
        "colab": {
          "base_uri": "https://localhost:8080/"
        },
        "id": "mD7m8lCdMR6i",
        "outputId": "baf495e6-5d83-449d-d7c8-c7d59dc70123"
      },
      "source": [
        "#  Importing Dataset\n",
        "\n",
        "(x_train, y_train), (x_test, y_test) = keras.datasets.mnist.load_data()\n",
        "x_train = np.reshape(x_train, (x_train.shape[0], 784))/255.         # scaling, so that value lies between (0,1)\n",
        "x_test = np.reshape(x_test, (x_test.shape[0], 784))/255.\n",
        "y_train = tf.keras.utils.to_categorical(y_train)\n",
        "y_test = tf.keras.utils.to_categorical(y_test)\n",
        "\n",
        "x_val = x_train[55000:]\n",
        "x_train = x_train[:55000]\n",
        "y_val = y_train[55000:]\n",
        "y_train = y_train[:55000]\n",
        "\n",
        "print((x_train.shape), (x_val.shape), (x_test.shape))"
      ],
      "execution_count": 4,
      "outputs": [
        {
          "output_type": "stream",
          "text": [
            "(55000, 784) (5000, 784) (10000, 784)\n"
          ],
          "name": "stdout"
        }
      ]
    },
    {
      "cell_type": "code",
      "metadata": {
        "id": "Yk12A3ngMUtQ"
      },
      "source": [
        "mlp = MLPClassifier(hidden_layer_sizes=[784, 128, 128, 10], activation='relu')"
      ],
      "execution_count": 5,
      "outputs": []
    },
    {
      "cell_type": "code",
      "metadata": {
        "colab": {
          "base_uri": "https://localhost:8080/"
        },
        "id": "t3H9PalJO96s",
        "outputId": "5d35e092-13a1-4405-cfbc-91f9bce3173c"
      },
      "source": [
        "mlp.build([None, 784])  # build with input shape is necessary to see summary\n",
        "mlp.summary()"
      ],
      "execution_count": 6,
      "outputs": [
        {
          "output_type": "stream",
          "text": [
            "Model: \"mlp_classifier\"\n",
            "_________________________________________________________________\n",
            "Layer (type)                 Output Shape              Param #   \n",
            "=================================================================\n",
            "my_dense (MyDense)           multiple                  615440    \n",
            "_________________________________________________________________\n",
            "my_dense_1 (MyDense)         multiple                  100480    \n",
            "_________________________________________________________________\n",
            "my_dense_2 (MyDense)         multiple                  16512     \n",
            "_________________________________________________________________\n",
            "my_dense_3 (MyDense)         multiple                  1290      \n",
            "=================================================================\n",
            "Total params: 733,722\n",
            "Trainable params: 733,722\n",
            "Non-trainable params: 0\n",
            "_________________________________________________________________\n"
          ],
          "name": "stdout"
        }
      ]
    },
    {
      "cell_type": "code",
      "metadata": {
        "id": "yRiM9by5NUSH"
      },
      "source": [
        "mlp.compile(optimizer='adam', loss='categorical_crossentropy',\n",
        "             metrics=['accuracy'])"
      ],
      "execution_count": 7,
      "outputs": []
    },
    {
      "cell_type": "code",
      "metadata": {
        "colab": {
          "base_uri": "https://localhost:8080/"
        },
        "id": "IOXIodBpMzC6",
        "outputId": "398fcf5d-4df6-4b94-b0f6-70bed9e2a24a"
      },
      "source": [
        "mlp.fit(x_train, y_train, batch_size=256, epochs=20, verbose=1, validation_data=(x_val, y_val))"
      ],
      "execution_count": 8,
      "outputs": [
        {
          "output_type": "stream",
          "text": [
            "Epoch 1/20\n",
            "215/215 [==============================] - 2s 5ms/step - loss: 0.5484 - accuracy: 0.8390 - val_loss: 0.1146 - val_accuracy: 0.9686\n",
            "Epoch 2/20\n",
            "215/215 [==============================] - 1s 4ms/step - loss: 0.1057 - accuracy: 0.9684 - val_loss: 0.0995 - val_accuracy: 0.9716\n",
            "Epoch 3/20\n",
            "215/215 [==============================] - 1s 4ms/step - loss: 0.0633 - accuracy: 0.9802 - val_loss: 0.0784 - val_accuracy: 0.9794\n",
            "Epoch 4/20\n",
            "215/215 [==============================] - 1s 4ms/step - loss: 0.0407 - accuracy: 0.9867 - val_loss: 0.0693 - val_accuracy: 0.9812\n",
            "Epoch 5/20\n",
            "215/215 [==============================] - 1s 4ms/step - loss: 0.0265 - accuracy: 0.9919 - val_loss: 0.0633 - val_accuracy: 0.9814\n",
            "Epoch 6/20\n",
            "215/215 [==============================] - 1s 4ms/step - loss: 0.0172 - accuracy: 0.9943 - val_loss: 0.0802 - val_accuracy: 0.9792\n",
            "Epoch 7/20\n",
            "215/215 [==============================] - 1s 4ms/step - loss: 0.0148 - accuracy: 0.9953 - val_loss: 0.0879 - val_accuracy: 0.9784\n",
            "Epoch 8/20\n",
            "215/215 [==============================] - 1s 4ms/step - loss: 0.0131 - accuracy: 0.9957 - val_loss: 0.0870 - val_accuracy: 0.9810\n",
            "Epoch 9/20\n",
            "215/215 [==============================] - 1s 4ms/step - loss: 0.0091 - accuracy: 0.9971 - val_loss: 0.0847 - val_accuracy: 0.9788\n",
            "Epoch 10/20\n",
            "215/215 [==============================] - 1s 4ms/step - loss: 0.0125 - accuracy: 0.9957 - val_loss: 0.0778 - val_accuracy: 0.9812\n",
            "Epoch 11/20\n",
            "215/215 [==============================] - 1s 4ms/step - loss: 0.0100 - accuracy: 0.9966 - val_loss: 0.0997 - val_accuracy: 0.9792\n",
            "Epoch 12/20\n",
            "215/215 [==============================] - 1s 4ms/step - loss: 0.0105 - accuracy: 0.9965 - val_loss: 0.0930 - val_accuracy: 0.9816\n",
            "Epoch 13/20\n",
            "215/215 [==============================] - 1s 4ms/step - loss: 0.0093 - accuracy: 0.9972 - val_loss: 0.0892 - val_accuracy: 0.9828\n",
            "Epoch 14/20\n",
            "215/215 [==============================] - 1s 4ms/step - loss: 0.0049 - accuracy: 0.9984 - val_loss: 0.0999 - val_accuracy: 0.9826\n",
            "Epoch 15/20\n",
            "215/215 [==============================] - 1s 4ms/step - loss: 0.0117 - accuracy: 0.9961 - val_loss: 0.0898 - val_accuracy: 0.9816\n",
            "Epoch 16/20\n",
            "215/215 [==============================] - 1s 4ms/step - loss: 0.0076 - accuracy: 0.9973 - val_loss: 0.0914 - val_accuracy: 0.9832\n",
            "Epoch 17/20\n",
            "215/215 [==============================] - 1s 4ms/step - loss: 0.0062 - accuracy: 0.9978 - val_loss: 0.1136 - val_accuracy: 0.9780\n",
            "Epoch 18/20\n",
            "215/215 [==============================] - 1s 4ms/step - loss: 0.0063 - accuracy: 0.9983 - val_loss: 0.1025 - val_accuracy: 0.9818\n",
            "Epoch 19/20\n",
            "215/215 [==============================] - 1s 4ms/step - loss: 0.0084 - accuracy: 0.9972 - val_loss: 0.1031 - val_accuracy: 0.9812\n",
            "Epoch 20/20\n",
            "215/215 [==============================] - 1s 4ms/step - loss: 0.0037 - accuracy: 0.9988 - val_loss: 0.1007 - val_accuracy: 0.9822\n"
          ],
          "name": "stdout"
        },
        {
          "output_type": "execute_result",
          "data": {
            "text/plain": [
              "<tensorflow.python.keras.callbacks.History at 0x7f96b126aba8>"
            ]
          },
          "metadata": {
            "tags": []
          },
          "execution_count": 8
        }
      ]
    },
    {
      "cell_type": "code",
      "metadata": {
        "colab": {
          "base_uri": "https://localhost:8080/"
        },
        "id": "mgA8s9C6NSgC",
        "outputId": "ee0360ec-17ac-4bc0-cf6b-cb72242e2e23"
      },
      "source": [
        "tloss, tacc = mlp.evaluate(x_test, y_test)\n",
        "print(f'Test Accuracy :: {tacc*100:.2f}')"
      ],
      "execution_count": 9,
      "outputs": [
        {
          "output_type": "stream",
          "text": [
            "313/313 [==============================] - 1s 2ms/step - loss: 0.0974 - accuracy: 0.9790\n",
            "Test Accuracy :: 97.90\n"
          ],
          "name": "stdout"
        }
      ]
    }
  ]
}